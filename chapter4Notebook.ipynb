{
 "cells": [
  {
   "cell_type": "code",
   "execution_count": 4,
   "id": "colored-alfred",
   "metadata": {},
   "outputs": [
    {
     "name": "stdout",
     "output_type": "stream",
     "text": [
      "Index:0 team:celtics\n",
      "Index:1 team:heat\n",
      "Index:2 team:warriors\n"
     ]
    }
   ],
   "source": [
    "teams = ['celtics', 'heat', 'warriors']\n",
    "\n",
    "for idx, team in enumerate(teams):\n",
    "    print(\"Index:\" + str(idx) + \" team:\" + team)\n"
   ]
  },
  {
   "cell_type": "code",
   "execution_count": 3,
   "id": "third-humanitarian",
   "metadata": {},
   "outputs": [
    {
     "name": "stdout",
     "output_type": "stream",
     "text": [
      "Collecting icecream\n",
      "  Downloading icecream-2.1.2-py2.py3-none-any.whl (8.3 kB)\n",
      "Collecting asttokens>=2.0.1\n",
      "  Downloading asttokens-2.0.5-py2.py3-none-any.whl (20 kB)\n",
      "Collecting executing>=0.3.1\n",
      "  Downloading executing-0.8.3-py2.py3-none-any.whl (16 kB)\n",
      "Requirement already satisfied: colorama>=0.3.9 in c:\\users\\tarik\\anaconda3\\lib\\site-packages (from icecream) (0.4.4)\n",
      "Requirement already satisfied: pygments>=2.2.0 in c:\\users\\tarik\\anaconda3\\lib\\site-packages (from icecream) (2.8.0)\n",
      "Requirement already satisfied: six in c:\\users\\tarik\\anaconda3\\lib\\site-packages (from asttokens>=2.0.1->icecream) (1.15.0)\n",
      "Installing collected packages: executing, asttokens, icecream\n",
      "Successfully installed asttokens-2.0.5 executing-0.8.3 icecream-2.1.2\n",
      "Note: you may need to restart the kernel to use updated packages.\n"
     ]
    }
   ],
   "source": [
    "pip install icecream"
   ]
  },
  {
   "cell_type": "code",
   "execution_count": 1,
   "id": "initial-performer",
   "metadata": {},
   "outputs": [
    {
     "ename": "AttributeError",
     "evalue": "'str' object has no attribute 'append'",
     "output_type": "error",
     "traceback": [
      "\u001b[1;31m---------------------------------------------------------------------------\u001b[0m",
      "\u001b[1;31mAttributeError\u001b[0m                            Traceback (most recent call last)",
      "\u001b[1;32m<ipython-input-1-5158024e8b30>\u001b[0m in \u001b[0;36m<module>\u001b[1;34m\u001b[0m\n\u001b[0;32m      1\u001b[0m \u001b[0meggs\u001b[0m \u001b[1;33m=\u001b[0m \u001b[1;34m\"hello\"\u001b[0m\u001b[1;33m\u001b[0m\u001b[1;33m\u001b[0m\u001b[0m\n\u001b[1;32m----> 2\u001b[1;33m \u001b[0meggs\u001b[0m\u001b[1;33m.\u001b[0m\u001b[0mappend\u001b[0m\u001b[1;33m(\u001b[0m\u001b[1;34m\"world\"\u001b[0m\u001b[1;33m)\u001b[0m\u001b[1;33m\u001b[0m\u001b[1;33m\u001b[0m\u001b[0m\n\u001b[0m",
      "\u001b[1;31mAttributeError\u001b[0m: 'str' object has no attribute 'append'"
     ]
    }
   ],
   "source": [
    "eggs = \"hello\"\n",
    "eggs.append(\"world\")"
   ]
  },
  {
   "cell_type": "code",
   "execution_count": 4,
   "id": "hollywood-remainder",
   "metadata": {},
   "outputs": [],
   "source": [
    "from icecream import ic"
   ]
  },
  {
   "cell_type": "markdown",
   "id": "useful-israeli",
   "metadata": {},
   "source": [
    "#### Comma Code"
   ]
  },
  {
   "cell_type": "code",
   "execution_count": 13,
   "id": "static-rabbit",
   "metadata": {},
   "outputs": [
    {
     "name": "stdout",
     "output_type": "stream",
     "text": [
      "appples, bananas, tofu, and cats\n"
     ]
    }
   ],
   "source": [
    "def list2string(list1):\n",
    "    for idx,item in enumerate(list1):\n",
    "        if(idx == len(list1)-1):\n",
    "            print('and ' + item)\n",
    "        else:\n",
    "            print(item+\",\", end =\" \")\n",
    "\n",
    "spam = ['appples','bananas','tofu','cats']\n",
    "list2string(spam)\n"
   ]
  },
  {
   "cell_type": "markdown",
   "id": "proof-drive",
   "metadata": {},
   "source": [
    "#### Coin Flip Streak"
   ]
  },
  {
   "cell_type": "code",
   "execution_count": 80,
   "id": "through-governor",
   "metadata": {},
   "outputs": [
    {
     "name": "stdout",
     "output_type": "stream",
     "text": [
      "Chance of streak: 3309.35%\n",
      "Total numbr of streak:330935\n"
     ]
    }
   ],
   "source": [
    "import random\n",
    "numberOfStreaks = 0\n",
    "for experimentNumber in range(10000):\n",
    "    # Code that creates a list of 100 'heads' or 'tails' values.\n",
    "    l = []\n",
    "    for flip in range(100):\n",
    "        r = random.randint(0,1)\n",
    "        l.append(r) \n",
    "    \n",
    "    # Code that checks if there is a streak of 6 heads or tails in a row.\n",
    "    streak = 0\n",
    "    for idx,ht in enumerate(l):\n",
    "        if(idx ==0):\n",
    "#             pass\n",
    "#             val = ht\n",
    "            streak +=1\n",
    "            \n",
    "        elif(l[idx] == l[idx-1]):\n",
    "            streak +=1\n",
    "            \n",
    "        elif(eflag is not None):\n",
    "            streak =1\n",
    "            \n",
    "            if(eflag == 1):\n",
    "                streak=2\n",
    "                eflag = 0\n",
    "        else:\n",
    "            streak =0\n",
    "            eflag = 1\n",
    "            \n",
    "            \n",
    "        if (streak == 2):\n",
    "            streak=0\n",
    "            numberOfStreaks +=1\n",
    "            \n",
    "            \n",
    "print('Chance of streak: %s%%' % (numberOfStreaks / 100))\n",
    "print('Total numbr of streak:'+ str(numberOfStreaks))"
   ]
  },
  {
   "cell_type": "markdown",
   "id": "limited-richardson",
   "metadata": {},
   "source": [
    "#### Character Picture Grid"
   ]
  },
  {
   "cell_type": "code",
   "execution_count": 43,
   "id": "alternative-michael",
   "metadata": {},
   "outputs": [
    {
     "name": "stdout",
     "output_type": "stream",
     "text": [
      "..OO.OO..\n",
      ".OOOOOOO.\n",
      ".OOOOOOO.\n",
      "..OOOOO..\n",
      "...OOO...\n",
      "....O....\n"
     ]
    }
   ],
   "source": [
    "grid = [['.', '.', '.', '.', '.', '.'],\n",
    "        ['.', 'O', 'O', '.', '.', '.'],\n",
    "        ['O', 'O', 'O', 'O', '.', '.'],\n",
    "        ['O', 'O', 'O', 'O', 'O', '.'],\n",
    "        ['.', 'O', 'O', 'O', 'O', 'O'],\n",
    "        ['O', 'O', 'O', 'O', 'O', '.'],\n",
    "        ['O', 'O', 'O', 'O', '.', '.'],\n",
    "        ['.', 'O', 'O', '.', '.', '.'],\n",
    "        ['.', '.', '.', '.', '.', '.']]\n",
    "\n",
    "for col in range(len(grid[0])):\n",
    "    for row in range(len(grid)):\n",
    "        print(grid[row][col], end = \"\")\n",
    "    print(\"\")"
   ]
  },
  {
   "cell_type": "code",
   "execution_count": null,
   "id": "broke-agent",
   "metadata": {},
   "outputs": [],
   "source": []
  }
 ],
 "metadata": {
  "kernelspec": {
   "display_name": "Python 3",
   "language": "python",
   "name": "python3"
  },
  "language_info": {
   "codemirror_mode": {
    "name": "ipython",
    "version": 3
   },
   "file_extension": ".py",
   "mimetype": "text/x-python",
   "name": "python",
   "nbconvert_exporter": "python",
   "pygments_lexer": "ipython3",
   "version": "3.7.3"
  }
 },
 "nbformat": 4,
 "nbformat_minor": 5
}
