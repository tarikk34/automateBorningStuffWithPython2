{
 "cells": [
  {
   "cell_type": "code",
   "execution_count": 5,
   "id": "indie-manufacturer",
   "metadata": {},
   "outputs": [
    {
     "name": "stdout",
     "output_type": "stream",
     "text": [
      "---PICNIC ITEMS--\n",
      "sandwiches..    4\n",
      "apples......   12\n",
      "cups........    4\n",
      "cookies..... 8000\n",
      "-------PICNIC ITEMS-------\n",
      "sandwiches..........     4\n",
      "apples..............    12\n",
      "cups................     4\n",
      "cookies.............  8000\n"
     ]
    }
   ],
   "source": [
    "def printPicnic(itemsDict, leftWidth, rightWidth):\n",
    "    print('PICNIC ITEMS'.center(leftWidth + rightWidth, '-'))\n",
    "    for k, v in itemsDict.items():\n",
    "        print(k.ljust(leftWidth, '.') + str(v).rjust(rightWidth))\n",
    "\n",
    "picnicItems = {'sandwiches': 4, 'apples': 12, 'cups': 4, 'cookies': 8000}\n",
    "printPicnic(picnicItems, 12, 5)\n",
    "printPicnic(picnicItems, 20, 6)"
   ]
  },
  {
   "cell_type": "code",
   "execution_count": 15,
   "id": "willing-hierarchy",
   "metadata": {},
   "outputs": [
    {
     "data": {
      "text/plain": [
       "'ello, World  '"
      ]
     },
     "execution_count": 15,
     "metadata": {},
     "output_type": "execute_result"
    }
   ],
   "source": [
    "spam = 'Hello, World  '\n",
    "spam.strip('H')"
   ]
  },
  {
   "cell_type": "code",
   "execution_count": 50,
   "id": "charming-garlic",
   "metadata": {},
   "outputs": [
    {
     "data": {
      "text/plain": [
       "'\\U00010f2c'"
      ]
     },
     "execution_count": 50,
     "metadata": {},
     "output_type": "execute_result"
    }
   ],
   "source": [
    "chr(69420)"
   ]
  },
  {
   "cell_type": "code",
   "execution_count": 53,
   "id": "alone-japanese",
   "metadata": {},
   "outputs": [],
   "source": [
    "import pyperclip"
   ]
  },
  {
   "cell_type": "code",
   "execution_count": 54,
   "id": "speaking-toronto",
   "metadata": {},
   "outputs": [
    {
     "data": {
      "text/plain": [
       "'Hello World'"
      ]
     },
     "execution_count": 54,
     "metadata": {},
     "output_type": "execute_result"
    }
   ],
   "source": [
    "pyperclip.copy('Hello World')\n",
    "pyperclip.paste()"
   ]
  },
  {
   "cell_type": "code",
   "execution_count": 57,
   "id": "advanced-daily",
   "metadata": {},
   "outputs": [
    {
     "data": {
      "text/plain": [
       "'sfully built pyperclip\\r\\nInstalling collected packages: pyperclip\\r\\nSuccessfully ins'"
      ]
     },
     "execution_count": 57,
     "metadata": {},
     "output_type": "execute_result"
    }
   ],
   "source": [
    "pyperclip.paste()"
   ]
  },
  {
   "cell_type": "code",
   "execution_count": 58,
   "id": "original-royal",
   "metadata": {},
   "outputs": [],
   "source": [
    "TEXT = {'agree': \"\"\"Yes, I agree. That sounds fine to me.\"\"\",\n",
    "        'busy': \"\"\"Sorry, can we do this later this week or next week?\"\"\",\n",
    "        'upsell': \"\"\"Would you consider making this a monthly donation?\"\"\"}"
   ]
  },
  {
   "cell_type": "code",
   "execution_count": 64,
   "id": "collected-exclusion",
   "metadata": {},
   "outputs": [],
   "source": [
    "'-'.join('There can only be one'.split())\n",
    "from icecream import ic"
   ]
  },
  {
   "cell_type": "markdown",
   "id": "functional-giving",
   "metadata": {},
   "source": [
    "### Table Printer"
   ]
  },
  {
   "cell_type": "code",
   "execution_count": 1,
   "id": "dietary-pennsylvania",
   "metadata": {},
   "outputs": [],
   "source": [
    "tableData = [['apples', 'oranges', 'cherries', 'banana'],\n",
    "             ['Alice', 'Bob', 'Carol', 'David'],\n",
    "             ['dogs', 'cats', 'moose', 'goose']]\n",
    "\n",
    "def printTable(tableData):\n",
    "    \n",
    "    maxrow = fmaxrow(tableData)\n",
    "    ic(maxrow)\n",
    "# ic(tableData[[0])\n",
    "def fmaxrow(tableData):\n",
    "    rowWidths = [0] * len(tableData[0])\n",
    "    colWidths = [0] * len(tableData)\n",
    "    smaxrow = 0\n",
    "    smaxcol = 0\n",
    "    for ridx, row in enumerate(rowWidths):\n",
    "        slen = len(''.join(tableData[ridx]))\n",
    "        if(smaxrow < rlen):\n",
    "            smaxrow = rlen\n",
    "        for cidx,col in enumerate(colWidths):\n",
    "            slen = len(''.join(tablData))\n",
    "            if(slen > smax):\n",
    "                smax = slen\n",
    "    return smax\n",
    "\n",
    "# printTable(tableData)\n"
   ]
  },
  {
   "cell_type": "code",
   "execution_count": 88,
   "id": "fifth-folks",
   "metadata": {},
   "outputs": [
    {
     "name": "stdout",
     "output_type": "stream",
     "text": [
      "['apples', 'oranges', 'cherries', 'banana']\n",
      "['Alice', 'Bob', 'Carol', 'David']\n",
      "['dogs', 'cats', 'moose', 'goose']\n"
     ]
    }
   ],
   "source": [
    "newTable = {0:[], 1:[], 2:[], 3:[]}\n",
    "\n",
    "# iterate through each list in tableData\n",
    "for li in tableData:\n",
    "    print(li)\n",
    "    for i in range(len(li)):\n",
    "        # put each item of tableData into newTable by index\n",
    "        newTable[i].append(li[i])\n"
   ]
  },
  {
   "cell_type": "code",
   "execution_count": 87,
   "id": "acoustic-olympus",
   "metadata": {},
   "outputs": [
    {
     "data": {
      "text/plain": [
       "{0: ['apples', 'Alice', 'dogs'],\n",
       " 1: ['oranges', 'Bob', 'cats'],\n",
       " 2: ['cherries', 'Carol', 'moose'],\n",
       " 3: ['banana', 'David', 'goose']}"
      ]
     },
     "execution_count": 87,
     "metadata": {},
     "output_type": "execute_result"
    }
   ],
   "source": [
    "newTable"
   ]
  },
  {
   "cell_type": "code",
   "execution_count": 19,
   "id": "elder-legend",
   "metadata": {},
   "outputs": [
    {
     "data": {
      "text/plain": [
       "'oranges'"
      ]
     },
     "execution_count": 19,
     "metadata": {},
     "output_type": "execute_result"
    }
   ],
   "source": [
    "tableData = [['apples', 'oranges', 'cherries', 'banana'],\n",
    "             ['Alice', 'Bob', 'Carol', 'David'],\n",
    "             ['dogs', 'cats', 'moose', 'goose']]\n",
    "tableData[0][1]"
   ]
  },
  {
   "cell_type": "code",
   "execution_count": 20,
   "id": "tested-robertson",
   "metadata": {},
   "outputs": [],
   "source": [
    "import numpy as np\n",
    "t = np.array(tableData).T\n"
   ]
  },
  {
   "cell_type": "code",
   "execution_count": 22,
   "id": "civilian-lesson",
   "metadata": {},
   "outputs": [
    {
     "data": {
      "text/plain": [
       "[['apples', 'Alice', 'dogs'],\n",
       " ['oranges', 'Bob', 'cats'],\n",
       " ['cherries', 'Carol', 'moose'],\n",
       " ['banana', 'David', 'goose']]"
      ]
     },
     "execution_count": 22,
     "metadata": {},
     "output_type": "execute_result"
    }
   ],
   "source": [
    "t.tolist()"
   ]
  },
  {
   "cell_type": "code",
   "execution_count": 23,
   "id": "right-bhutan",
   "metadata": {},
   "outputs": [
    {
     "data": {
      "text/plain": [
       "[array(['apples', 'Alice', 'dogs'], dtype='<U8'),\n",
       " array(['oranges', 'Bob', 'cats'], dtype='<U8'),\n",
       " array(['cherries', 'Carol', 'moose'], dtype='<U8'),\n",
       " array(['banana', 'David', 'goose'], dtype='<U8')]"
      ]
     },
     "execution_count": 23,
     "metadata": {},
     "output_type": "execute_result"
    }
   ],
   "source": [
    "t1"
   ]
  },
  {
   "cell_type": "code",
   "execution_count": 29,
   "id": "listed-imaging",
   "metadata": {},
   "outputs": [
    {
     "name": "stdout",
     "output_type": "stream",
     "text": [
      "6\n",
      "7\n",
      "8\n",
      "6\n",
      "5\n",
      "3\n",
      "5\n",
      "5\n",
      "4\n",
      "4\n",
      "5\n",
      "5\n"
     ]
    }
   ],
   "source": [
    "for idx,i in enumerate(tableData):\n",
    "    for j in tableData[idx]:\n",
    "        print(len(j))"
   ]
  },
  {
   "cell_type": "code",
   "execution_count": null,
   "id": "martial-isaac",
   "metadata": {},
   "outputs": [],
   "source": []
  }
 ],
 "metadata": {
  "kernelspec": {
   "display_name": "Python 3",
   "language": "python",
   "name": "python3"
  },
  "language_info": {
   "codemirror_mode": {
    "name": "ipython",
    "version": 3
   },
   "file_extension": ".py",
   "mimetype": "text/x-python",
   "name": "python",
   "nbconvert_exporter": "python",
   "pygments_lexer": "ipython3",
   "version": "3.7.3"
  }
 },
 "nbformat": 4,
 "nbformat_minor": 5
}
